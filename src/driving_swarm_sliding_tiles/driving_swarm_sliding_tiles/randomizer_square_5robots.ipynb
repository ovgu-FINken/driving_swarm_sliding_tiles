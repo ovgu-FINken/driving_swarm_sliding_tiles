{
 "cells": [
  {
   "cell_type": "code",
   "execution_count": 1,
   "id": "2403f850-fafd-46da-ba32-e080a6e847a8",
   "metadata": {},
   "outputs": [],
   "source": [
    "\n",
    "%matplotlib widget\n",
    "import matplotlib.pyplot as plt\n",
    "import networkx as nx\n",
    "import numpy as np\n",
    "import random\n"
   ]
  },
  {
   "cell_type": "code",
   "execution_count": 2,
   "id": "6937f2af",
   "metadata": {},
   "outputs": [],
   "source": [
    "#Endconfiguration with 8 robots \n",
    "placement_list = ['A','B','C','D','E','x0']\n",
    "E5 = nx.Graph()\n",
    "nodes = ['n1','n2','n3','n4','n5','n6']\n",
    "E5.add_nodes_from(nodes)\n",
    "\n",
    "# neighborhoods (random)\n",
    "# jede Knoten hat mind. zwei Nachbarn\n",
    "#edge_list = []\n",
    "#list_len = len(edge_list)\n",
    "#rand_neighb = random.randint(rob_num+1, sum(rob_num+1))\n",
    "edge_list = [('n1','n2'), ('n1','n4'), ('n2','n5'), ('n2','n3'), ('n3','n6'), ('n5','n6'), ('n4','n5')]\n",
    "#E5.add_edges_from(edge_list)"
   ]
  },
  {
   "cell_type": "code",
   "execution_count": 3,
   "id": "bb5e9371",
   "metadata": {},
   "outputs": [],
   "source": [
    "def edges(g, edge_list, nodes):\n",
    "    a = random.choice(nodes)\n",
    "    b = random.choice(nodes)\n",
    "    #TO DO: check: E5 zusammenhängend\n",
    "    if (a != b) and ((a,b) not in edge_list) and ((b,a) not in edge_list):\n",
    "        edge_list.append((a, b))\n",
    "        print(edge_list)\n",
    "        g.add_edges_from(edge_list)\n",
    "        print (\"n1 = \", g.degree['n1'], \", n2 = \", g.degree['n2'], \", n3 = \", g.degree['n3'], \", n4 = \", g.degree['n4'], \", n5 = \", g.degree['n5'], \", n6 = \", g.degree['n6'])\n",
    "        for i in nodes:\n",
    "            while (g.degree[i] < 2):\n",
    "                edges(g, edge_list, nodes)\n",
    "    return edge_list\n"
   ]
  },
  {
   "cell_type": "code",
   "execution_count": 4,
   "id": "7f352353",
   "metadata": {},
   "outputs": [],
   "source": [
    "#edge_list = edges(E8,edge_list,nodes)\n",
    "E5.add_edges_from(edge_list)"
   ]
  },
  {
   "cell_type": "code",
   "execution_count": 5,
   "id": "23886bca",
   "metadata": {},
   "outputs": [
    {
     "data": {
      "text/plain": [
       "<function matplotlib.pyplot.show(close=None, block=None)>"
      ]
     },
     "execution_count": 5,
     "metadata": {},
     "output_type": "execute_result"
    },
    {
     "data": {
      "application/vnd.jupyter.widget-view+json": {
       "model_id": "8c06756bfe804117a6b881173cf34b8e",
       "version_major": 2,
       "version_minor": 0
      },
      "text/html": [
       "\n",
       "            <div style=\"display: inline-block;\">\n",
       "                <div class=\"jupyter-widgets widget-label\" style=\"text-align: center;\">\n",
       "                    Figure\n",
       "                </div>\n",
       "                <img src='data:image/png;base64,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' width=640.0/>\n",
       "            </div>\n",
       "        "
      ],
      "text/plain": [
       "Canvas(toolbar=Toolbar(toolitems=[('Home', 'Reset original view', 'home', 'home'), ('Back', 'Back to previous …"
      ]
     },
     "metadata": {},
     "output_type": "display_data"
    }
   ],
   "source": [
    "plt.figure()\n",
    "pos = {'n1': (1.5,-0.8), 'n2': (1.9,-0.8), 'n3': (1.5,-1.2), 'n4': (1.9,-1.2), 'n5': (1.5,-1.6), 'n6': (1.9,-1.6)}\n",
    "nx.draw(E5, pos=pos, with_labels = True, edge_color='gray', font_weight='bold', font_color='white')\n",
    "plt.show"
   ]
  },
  {
   "cell_type": "code",
   "execution_count": 6,
   "id": "d95253cf",
   "metadata": {},
   "outputs": [],
   "source": [
    "#Zuordnung: Index stimmt mit Knotennr überein\n",
    "def place_robots(placement_list, graph):\n",
    "    p = placement_list\n",
    "    rob_list = []\n",
    "    for i in range(0,6):\n",
    "        a = random.choice(p)\n",
    "        rob_list.append(a)\n",
    "        p.remove(a)\n",
    "\n",
    "    return rob_list"
   ]
  },
  {
   "cell_type": "code",
   "execution_count": 7,
   "id": "6675e4d4",
   "metadata": {},
   "outputs": [
    {
     "name": "stdout",
     "output_type": "stream",
     "text": [
      "['A', 'B', 'C', 'D', 'E', 'x0']\n"
     ]
    }
   ],
   "source": [
    "#s=place_robots(placement_list,E8)\n",
    "s=placement_list\n",
    "print(s)"
   ]
  },
  {
   "cell_type": "code",
   "execution_count": 8,
   "id": "4ae44aad",
   "metadata": {},
   "outputs": [],
   "source": [
    "def find_element(element,set_a):\n",
    "    k = -1\n",
    "    for i in set_a:\n",
    "        k = k+1\n",
    "        if i == element:\n",
    "            n = nodes[k]\n",
    "            return n"
   ]
  },
  {
   "cell_type": "code",
   "execution_count": 9,
   "id": "99c5b598",
   "metadata": {},
   "outputs": [],
   "source": [
    "def find_element_tuple(element,set_a):\n",
    "    element_pair = [item for item in set_a\n",
    "          if item[0] == element or item[1] == element]\n",
    "    \n",
    "    return element_pair"
   ]
  },
  {
   "cell_type": "code",
   "execution_count": 10,
   "id": "d404a070",
   "metadata": {},
   "outputs": [],
   "source": [
    "n = find_element('x0', s)"
   ]
  },
  {
   "cell_type": "code",
   "execution_count": 11,
   "id": "9cbe1651",
   "metadata": {},
   "outputs": [],
   "source": [
    "def find_node_element(element,set_a):\n",
    "    for i in set_a:\n",
    "        if i[0] == element:\n",
    "            node = i[1]\n",
    "        if i[1] == element:\n",
    "            node = i[0] \n",
    "    \n",
    "    return node\n"
   ]
  },
  {
   "cell_type": "code",
   "execution_count": 12,
   "id": "077f1226",
   "metadata": {},
   "outputs": [],
   "source": [
    "#Neighbors of x0\n",
    "def find_neighbors(set_a, edge_list):\n",
    "    neighbor_list = []\n",
    "    p_list = []\n",
    "    n = find_element('x0',set_a)\n",
    "    p_list = find_element_tuple(n,edge_list)\n",
    "    while (len(p_list) != 0):\n",
    "        nb = find_node_element(n,p_list) \n",
    "        neighbor_list.append(nb)\n",
    "        p_list.pop()\n",
    "    \n",
    "    return neighbor_list"
   ]
  },
  {
   "cell_type": "code",
   "execution_count": 13,
   "id": "2b6ca143",
   "metadata": {},
   "outputs": [],
   "source": [
    "nb_list = find_neighbors(s,edge_list)"
   ]
  },
  {
   "cell_type": "code",
   "execution_count": 14,
   "id": "b0da6002",
   "metadata": {},
   "outputs": [],
   "source": [
    "def randomize_multi_steps(s,edge_list,nb_list):\n",
    "    for x in range(1,20):\n",
    "        print(x)\n",
    "        print(s)\n",
    "        print(nb_list)\n",
    "        #welche Roboter stehen auf den benachbarten Knoten zu x0?\n",
    "        rob_list = []\n",
    "        dummy_list = ['n1', 'n2', 'n3', 'n4','n5', 'n6']\n",
    "\n",
    "        for i in nb_list:\n",
    "            x = 0\n",
    "            for j in dummy_list:\n",
    "                if i==j:\n",
    "                    rob = s[x] \n",
    "                    rob_list.append(rob)\n",
    "                x = x+1\n",
    "        c = random.choice(rob_list)\n",
    "\n",
    "        #x0 und c tauschen Plätze \n",
    "        k = -1\n",
    "        for i in s:\n",
    "            k = k+1\n",
    "            if i == 'x0':\n",
    "                s[k] = c\n",
    "            if i == c:\n",
    "                s[k] = 'x0'\n",
    "        nb_list = find_neighbors(s,edge_list)\n",
    "                \n",
    "\n",
    "    return s\n"
   ]
  },
  {
   "cell_type": "code",
   "execution_count": 15,
   "id": "3a3851c9",
   "metadata": {},
   "outputs": [
    {
     "name": "stdout",
     "output_type": "stream",
     "text": [
      "['A', 'B', 'C', 'D', 'E', 'x0']\n",
      "1\n",
      "['A', 'B', 'C', 'D', 'E', 'x0']\n",
      "['n5', 'n3']\n",
      "2\n",
      "['A', 'B', 'C', 'D', 'x0', 'E']\n",
      "['n4', 'n6', 'n2']\n",
      "3\n",
      "['A', 'B', 'C', 'D', 'E', 'x0']\n",
      "['n5', 'n3']\n",
      "4\n",
      "['A', 'B', 'C', 'D', 'x0', 'E']\n",
      "['n4', 'n6', 'n2']\n",
      "5\n",
      "['A', 'B', 'C', 'x0', 'D', 'E']\n",
      "['n5', 'n1']\n",
      "6\n",
      "['A', 'B', 'C', 'D', 'x0', 'E']\n",
      "['n4', 'n6', 'n2']\n",
      "7\n",
      "['A', 'B', 'C', 'x0', 'D', 'E']\n",
      "['n5', 'n1']\n",
      "8\n",
      "['A', 'B', 'C', 'D', 'x0', 'E']\n",
      "['n4', 'n6', 'n2']\n",
      "9\n",
      "['A', 'x0', 'C', 'D', 'B', 'E']\n",
      "['n3', 'n5', 'n1']\n",
      "10\n",
      "['A', 'B', 'C', 'D', 'x0', 'E']\n",
      "['n4', 'n6', 'n2']\n",
      "11\n",
      "['A', 'x0', 'C', 'D', 'B', 'E']\n",
      "['n3', 'n5', 'n1']\n",
      "12\n",
      "['A', 'B', 'C', 'D', 'x0', 'E']\n",
      "['n4', 'n6', 'n2']\n",
      "13\n",
      "['A', 'B', 'C', 'D', 'E', 'x0']\n",
      "['n5', 'n3']\n",
      "14\n",
      "['A', 'B', 'x0', 'D', 'E', 'C']\n",
      "['n6', 'n2']\n",
      "15\n",
      "['A', 'x0', 'B', 'D', 'E', 'C']\n",
      "['n3', 'n5', 'n1']\n",
      "16\n",
      "['x0', 'A', 'B', 'D', 'E', 'C']\n",
      "['n4', 'n2']\n",
      "17\n",
      "['D', 'A', 'B', 'x0', 'E', 'C']\n",
      "['n5', 'n1']\n",
      "18\n",
      "['x0', 'A', 'B', 'D', 'E', 'C']\n",
      "['n4', 'n2']\n",
      "19\n",
      "['A', 'x0', 'B', 'D', 'E', 'C']\n",
      "['n3', 'n5', 'n1']\n",
      "['A', 'E', 'B', 'D', 'x0', 'C']\n"
     ]
    }
   ],
   "source": [
    "print(s)\n",
    "result = randomize_multi_steps(s,edge_list,nb_list)\n",
    "print(result)"
   ]
  },
  {
   "cell_type": "code",
   "execution_count": null,
   "id": "e2f8e863",
   "metadata": {},
   "outputs": [],
   "source": []
  },
  {
   "cell_type": "code",
   "execution_count": null,
   "id": "06568ea0",
   "metadata": {},
   "outputs": [],
   "source": []
  },
  {
   "cell_type": "code",
   "execution_count": null,
   "id": "58400d30",
   "metadata": {},
   "outputs": [],
   "source": []
  }
 ],
 "metadata": {
  "kernelspec": {
   "display_name": "Python 3 (ipykernel)",
   "language": "python",
   "name": "python3"
  },
  "language_info": {
   "codemirror_mode": {
    "name": "ipython",
    "version": 3
   },
   "file_extension": ".py",
   "mimetype": "text/x-python",
   "name": "python",
   "nbconvert_exporter": "python",
   "pygments_lexer": "ipython3",
   "version": "3.9.7"
  }
 },
 "nbformat": 4,
 "nbformat_minor": 5
}
