{
 "cells": [
  {
   "cell_type": "code",
   "execution_count": 1,
   "id": "2403f850-fafd-46da-ba32-e080a6e847a8",
   "metadata": {},
   "outputs": [],
   "source": [
    "%matplotlib widget\n",
    "import matplotlib.pyplot as plt\n",
    "import networkx as nx\n",
    "import numpy as np\n",
    "import random\n"
   ]
  },
  {
   "cell_type": "code",
   "execution_count": 2,
   "id": "6937f2af",
   "metadata": {},
   "outputs": [],
   "source": [
    "#Endconfiguration with 5 robots \n",
    "placement_list = ['A','B','C','D','E','x0']\n",
    "E5 = nx.Graph()\n",
    "nodes = ['n1','n2','n3','n4','n5','n6']\n",
    "E5.add_nodes_from(nodes)\n",
    "\n",
    "edge_list = [('n1','n2'), ('n1','n4'), ('n2','n5'), ('n2','n3'), ('n3','n6'), ('n5','n6'), ('n4','n5')]\n"
   ]
  },
  {
   "cell_type": "code",
   "execution_count": 3,
   "id": "7f352353",
   "metadata": {},
   "outputs": [],
   "source": [
    "E5.add_edges_from(edge_list)"
   ]
  },
  {
   "cell_type": "code",
   "execution_count": 4,
   "id": "23886bca",
   "metadata": {},
   "outputs": [
    {
     "data": {
      "text/plain": [
       "<function matplotlib.pyplot.show(close=None, block=None)>"
      ]
     },
     "execution_count": 4,
     "metadata": {},
     "output_type": "execute_result"
    },
    {
     "data": {
      "application/vnd.jupyter.widget-view+json": {
       "model_id": "c18c067e4e1840ceb83f0979dddb5cd3",
       "version_major": 2,
       "version_minor": 0
      },
      "text/html": [
       "\n",
       "            <div style=\"display: inline-block;\">\n",
       "                <div class=\"jupyter-widgets widget-label\" style=\"text-align: center;\">\n",
       "                    Figure\n",
       "                </div>\n",
       "                <img src='data:image/png;base64,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' width=640.0/>\n",
       "            </div>\n",
       "        "
      ],
      "text/plain": [
       "Canvas(toolbar=Toolbar(toolitems=[('Home', 'Reset original view', 'home', 'home'), ('Back', 'Back to previous …"
      ]
     },
     "metadata": {},
     "output_type": "display_data"
    }
   ],
   "source": [
    "plt.figure()\n",
    "pos = {'n1': (1.5,-0.8), 'n2': (1.9,-0.8), 'n3': (2.3,-0.8), 'n4': (1.5,-1.0), 'n5': (1.9,-1.0), 'n6': (2.3,-1.0)}\n",
    "nx.draw(E5, pos=pos, with_labels = True, edge_color='gray', font_weight='bold', font_color='white')\n",
    "plt.show"
   ]
  },
  {
   "cell_type": "code",
   "execution_count": 5,
   "id": "d95253cf",
   "metadata": {},
   "outputs": [],
   "source": [
    "#Zuordnung: Index stimmt mit Knotennr überein\n",
    "def place_robots(placement_list, graph):\n",
    "    p = placement_list\n",
    "    rob_list = []\n",
    "    for i in range(0,6):\n",
    "        a = random.choice(p)\n",
    "        rob_list.append(a)\n",
    "        p.remove(a)\n",
    "\n",
    "    return rob_list"
   ]
  },
  {
   "cell_type": "code",
   "execution_count": 6,
   "id": "6675e4d4",
   "metadata": {},
   "outputs": [
    {
     "name": "stdout",
     "output_type": "stream",
     "text": [
      "['A', 'B', 'C', 'D', 'E', 'x0']\n"
     ]
    }
   ],
   "source": [
    "#s=place_robots(placement_list,E8)\n",
    "s=placement_list\n",
    "print(s)"
   ]
  },
  {
   "cell_type": "code",
   "execution_count": 7,
   "id": "4ae44aad",
   "metadata": {},
   "outputs": [],
   "source": [
    "def find_element(element,set_a):\n",
    "    k = -1\n",
    "    for i in set_a:\n",
    "        k = k+1\n",
    "        if i == element:\n",
    "            n = nodes[k]\n",
    "            return n"
   ]
  },
  {
   "cell_type": "code",
   "execution_count": 8,
   "id": "99c5b598",
   "metadata": {},
   "outputs": [],
   "source": [
    "def find_element_tuple(element,set_a):\n",
    "    element_pair = [item for item in set_a\n",
    "          if item[0] == element or item[1] == element]\n",
    "    \n",
    "    return element_pair"
   ]
  },
  {
   "cell_type": "code",
   "execution_count": 9,
   "id": "d404a070",
   "metadata": {},
   "outputs": [],
   "source": [
    "n = find_element('x0', s)"
   ]
  },
  {
   "cell_type": "code",
   "execution_count": 10,
   "id": "9cbe1651",
   "metadata": {},
   "outputs": [],
   "source": [
    "def find_node_element(element,set_a):\n",
    "    for i in set_a:\n",
    "        if i[0] == element:\n",
    "            node = i[1]\n",
    "        if i[1] == element:\n",
    "            node = i[0] \n",
    "    \n",
    "    return node\n"
   ]
  },
  {
   "cell_type": "code",
   "execution_count": 11,
   "id": "077f1226",
   "metadata": {},
   "outputs": [],
   "source": [
    "#Neighbors of x0\n",
    "def find_neighbors(set_a, edge_list):\n",
    "    neighbor_list = []\n",
    "    p_list = []\n",
    "    n = find_element('x0',set_a)\n",
    "    p_list = find_element_tuple(n,edge_list)\n",
    "    while (len(p_list) != 0):\n",
    "        nb = find_node_element(n,p_list) \n",
    "        neighbor_list.append(nb)\n",
    "        p_list.pop()\n",
    "    \n",
    "    return neighbor_list"
   ]
  },
  {
   "cell_type": "code",
   "execution_count": 12,
   "id": "2b6ca143",
   "metadata": {},
   "outputs": [],
   "source": [
    "nb_list = find_neighbors(s,edge_list)"
   ]
  },
  {
   "cell_type": "code",
   "execution_count": 13,
   "id": "b0da6002",
   "metadata": {},
   "outputs": [],
   "source": [
    "def randomize_multi_steps(s,edge_list,nb_list):\n",
    "    for x in range(1,20):\n",
    "        print(x)\n",
    "        print(s)\n",
    "        print(nb_list)\n",
    "        #welche Roboter stehen auf den benachbarten Knoten zu x0?\n",
    "        rob_list = []\n",
    "        dummy_list = ['n1', 'n2', 'n3', 'n4','n5', 'n6']\n",
    "\n",
    "        for i in nb_list:\n",
    "            x = 0\n",
    "            for j in dummy_list:\n",
    "                if i==j:\n",
    "                    rob = s[x] \n",
    "                    rob_list.append(rob)\n",
    "                x = x+1\n",
    "        c = random.choice(rob_list)\n",
    "\n",
    "        #x0 und c tauschen Plätze \n",
    "        k = -1\n",
    "        for i in s:\n",
    "            k = k+1\n",
    "            if i == 'x0':\n",
    "                s[k] = c\n",
    "            if i == c:\n",
    "                s[k] = 'x0'\n",
    "        nb_list = find_neighbors(s,edge_list)\n",
    "                \n",
    "\n",
    "    return s\n"
   ]
  },
  {
   "cell_type": "code",
   "execution_count": 14,
   "id": "3a3851c9",
   "metadata": {},
   "outputs": [
    {
     "name": "stdout",
     "output_type": "stream",
     "text": [
      "['A', 'B', 'C', 'D', 'E', 'x0']\n",
      "1\n",
      "['A', 'B', 'C', 'D', 'E', 'x0']\n",
      "['n5', 'n3']\n",
      "2\n",
      "['A', 'B', 'C', 'D', 'x0', 'E']\n",
      "['n4', 'n6', 'n2']\n",
      "3\n",
      "['A', 'B', 'C', 'D', 'E', 'x0']\n",
      "['n5', 'n3']\n",
      "4\n",
      "['A', 'B', 'C', 'D', 'x0', 'E']\n",
      "['n4', 'n6', 'n2']\n",
      "5\n",
      "['A', 'B', 'C', 'x0', 'D', 'E']\n",
      "['n5', 'n1']\n",
      "6\n",
      "['x0', 'B', 'C', 'A', 'D', 'E']\n",
      "['n4', 'n2']\n",
      "7\n",
      "['B', 'x0', 'C', 'A', 'D', 'E']\n",
      "['n3', 'n5', 'n1']\n",
      "8\n",
      "['B', 'C', 'x0', 'A', 'D', 'E']\n",
      "['n6', 'n2']\n",
      "9\n",
      "['B', 'x0', 'C', 'A', 'D', 'E']\n",
      "['n3', 'n5', 'n1']\n",
      "10\n",
      "['x0', 'B', 'C', 'A', 'D', 'E']\n",
      "['n4', 'n2']\n",
      "11\n",
      "['A', 'B', 'C', 'x0', 'D', 'E']\n",
      "['n5', 'n1']\n",
      "12\n",
      "['A', 'B', 'C', 'D', 'x0', 'E']\n",
      "['n4', 'n6', 'n2']\n",
      "13\n",
      "['A', 'B', 'C', 'D', 'E', 'x0']\n",
      "['n5', 'n3']\n",
      "14\n",
      "['A', 'B', 'x0', 'D', 'E', 'C']\n",
      "['n6', 'n2']\n",
      "15\n",
      "['A', 'x0', 'B', 'D', 'E', 'C']\n",
      "['n3', 'n5', 'n1']\n",
      "16\n",
      "['x0', 'A', 'B', 'D', 'E', 'C']\n",
      "['n4', 'n2']\n",
      "17\n",
      "['D', 'A', 'B', 'x0', 'E', 'C']\n",
      "['n5', 'n1']\n",
      "18\n",
      "['D', 'A', 'B', 'E', 'x0', 'C']\n",
      "['n4', 'n6', 'n2']\n",
      "19\n",
      "['D', 'x0', 'B', 'E', 'A', 'C']\n",
      "['n3', 'n5', 'n1']\n",
      "['D', 'B', 'x0', 'E', 'A', 'C']\n"
     ]
    }
   ],
   "source": [
    "print(s)\n",
    "result = randomize_multi_steps(s,edge_list,nb_list)\n",
    "print(result)"
   ]
  },
  {
   "cell_type": "code",
   "execution_count": null,
   "id": "e2f8e863",
   "metadata": {},
   "outputs": [],
   "source": []
  },
  {
   "cell_type": "code",
   "execution_count": null,
   "id": "06568ea0",
   "metadata": {},
   "outputs": [],
   "source": []
  },
  {
   "cell_type": "code",
   "execution_count": null,
   "id": "58400d30",
   "metadata": {},
   "outputs": [],
   "source": []
  }
 ],
 "metadata": {
  "kernelspec": {
   "display_name": "Python 3 (ipykernel)",
   "language": "python",
   "name": "python3"
  },
  "language_info": {
   "codemirror_mode": {
    "name": "ipython",
    "version": 3
   },
   "file_extension": ".py",
   "mimetype": "text/x-python",
   "name": "python",
   "nbconvert_exporter": "python",
   "pygments_lexer": "ipython3",
   "version": "3.9.7"
  }
 },
 "nbformat": 4,
 "nbformat_minor": 5
}
