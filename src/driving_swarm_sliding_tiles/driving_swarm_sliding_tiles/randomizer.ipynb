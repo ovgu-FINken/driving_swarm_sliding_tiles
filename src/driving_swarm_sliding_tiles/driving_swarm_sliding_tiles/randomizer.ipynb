{
 "cells": [
  {
   "cell_type": "code",
   "execution_count": 1,
   "id": "2403f850-fafd-46da-ba32-e080a6e847a8",
   "metadata": {},
   "outputs": [],
   "source": [
    "\n",
    "%matplotlib widget\n",
    "import matplotlib.pyplot as plt\n",
    "import networkx as nx\n",
    "import numpy as np\n",
    "import random\n"
   ]
  },
  {
   "cell_type": "code",
   "execution_count": 3,
   "id": "6937f2af",
   "metadata": {},
   "outputs": [],
   "source": [
    "#Endconfiguration with 5 robots \n",
    "placement_list = ['x0','r1','r2','r3','r4','r5']\n",
    "E5 = nx.Graph()\n",
    "nodes = ['n1','n2','n3','n4','n5','n6']\n",
    "E5.add_nodes_from(nodes)\n",
    "\n",
    "# neighborhoods (random)\n",
    "# jede Knoten hat mind. zwei Nachbarn\n",
    "edge_list = []\n",
    "list_len = len(edge_list)\n",
    "#rand_neighb = random.randint(rob_num+1, sum(rob_num+1))\n",
    "#edge_list = [('n1','n2'), ('n1','n3'), ('n1','n4'), ('n2','n3'), ('n2','n4'), ('n3','n4'), ('n3','n5'), ('n3','n6'), ('n4','n5'), ('n4','n6'),('n5','n6')]\n",
    "#E5.add_edges_from(edge_list)"
   ]
  },
  {
   "cell_type": "code",
   "execution_count": 4,
   "id": "bb5e9371",
   "metadata": {},
   "outputs": [],
   "source": [
    "def edges(g, edge_list, nodes):\n",
    "    a = random.choice(nodes)\n",
    "    b = random.choice(nodes)\n",
    "    #TO DO: check: E5 zusammenhängend\n",
    "    if (a != b) and ((a,b) not in edge_list) and ((b,a) not in edge_list):\n",
    "        edge_list.append((a, b))\n",
    "        print(edge_list)\n",
    "        g.add_edges_from(edge_list)\n",
    "        print (\"n1 = \", g.degree['n1'], \", n2 = \", g.degree['n2'], \", n3 = \", g.degree['n3'], \", n4 = \", g.degree['n4'], \", n5 = \", g.degree['n5'], \", n6 = \", g.degree['n6'])\n",
    "        for i in nodes:\n",
    "            while (g.degree[i] < 2):\n",
    "                edges(g, edge_list, nodes)\n",
    "    return edge_list\n"
   ]
  },
  {
   "cell_type": "code",
   "execution_count": 5,
   "id": "7f352353",
   "metadata": {},
   "outputs": [
    {
     "name": "stdout",
     "output_type": "stream",
     "text": [
      "[('n2', 'n5')]\n",
      "n1 =  0 , n2 =  1 , n3 =  0 , n4 =  0 , n5 =  1 , n6 =  0\n",
      "[('n2', 'n5'), ('n4', 'n5')]\n",
      "n1 =  0 , n2 =  1 , n3 =  0 , n4 =  1 , n5 =  2 , n6 =  0\n",
      "[('n2', 'n5'), ('n4', 'n5'), ('n2', 'n4')]\n",
      "n1 =  0 , n2 =  2 , n3 =  0 , n4 =  2 , n5 =  2 , n6 =  0\n",
      "[('n2', 'n5'), ('n4', 'n5'), ('n2', 'n4'), ('n2', 'n3')]\n",
      "n1 =  0 , n2 =  3 , n3 =  1 , n4 =  2 , n5 =  2 , n6 =  0\n",
      "[('n2', 'n5'), ('n4', 'n5'), ('n2', 'n4'), ('n2', 'n3'), ('n2', 'n1')]\n",
      "n1 =  1 , n2 =  4 , n3 =  1 , n4 =  2 , n5 =  2 , n6 =  0\n",
      "[('n2', 'n5'), ('n4', 'n5'), ('n2', 'n4'), ('n2', 'n3'), ('n2', 'n1'), ('n5', 'n1')]\n",
      "n1 =  2 , n2 =  4 , n3 =  1 , n4 =  2 , n5 =  3 , n6 =  0\n",
      "[('n2', 'n5'), ('n4', 'n5'), ('n2', 'n4'), ('n2', 'n3'), ('n2', 'n1'), ('n5', 'n1'), ('n6', 'n2')]\n",
      "n1 =  2 , n2 =  5 , n3 =  1 , n4 =  2 , n5 =  3 , n6 =  1\n",
      "[('n2', 'n5'), ('n4', 'n5'), ('n2', 'n4'), ('n2', 'n3'), ('n2', 'n1'), ('n5', 'n1'), ('n6', 'n2'), ('n3', 'n1')]\n",
      "n1 =  3 , n2 =  5 , n3 =  2 , n4 =  2 , n5 =  3 , n6 =  1\n",
      "[('n2', 'n5'), ('n4', 'n5'), ('n2', 'n4'), ('n2', 'n3'), ('n2', 'n1'), ('n5', 'n1'), ('n6', 'n2'), ('n3', 'n1'), ('n3', 'n4')]\n",
      "n1 =  3 , n2 =  5 , n3 =  3 , n4 =  3 , n5 =  3 , n6 =  1\n",
      "[('n2', 'n5'), ('n4', 'n5'), ('n2', 'n4'), ('n2', 'n3'), ('n2', 'n1'), ('n5', 'n1'), ('n6', 'n2'), ('n3', 'n1'), ('n3', 'n4'), ('n1', 'n4')]\n",
      "n1 =  4 , n2 =  5 , n3 =  3 , n4 =  4 , n5 =  3 , n6 =  1\n",
      "[('n2', 'n5'), ('n4', 'n5'), ('n2', 'n4'), ('n2', 'n3'), ('n2', 'n1'), ('n5', 'n1'), ('n6', 'n2'), ('n3', 'n1'), ('n3', 'n4'), ('n1', 'n4'), ('n6', 'n5')]\n",
      "n1 =  4 , n2 =  5 , n3 =  3 , n4 =  4 , n5 =  4 , n6 =  2\n"
     ]
    }
   ],
   "source": [
    "edge_list = edges(E5,edge_list,nodes)\n",
    "E5.add_edges_from(edge_list)"
   ]
  },
  {
   "cell_type": "code",
   "execution_count": 6,
   "id": "23886bca",
   "metadata": {},
   "outputs": [
    {
     "data": {
      "text/plain": [
       "<function matplotlib.pyplot.show(close=None, block=None)>"
      ]
     },
     "execution_count": 6,
     "metadata": {},
     "output_type": "execute_result"
    },
    {
     "data": {
      "application/vnd.jupyter.widget-view+json": {
       "model_id": "bd6c4fbe10724fbabe0282d34b6c6637",
       "version_major": 2,
       "version_minor": 0
      },
      "text/html": [
       "\n",
       "            <div style=\"display: inline-block;\">\n",
       "                <div class=\"jupyter-widgets widget-label\" style=\"text-align: center;\">\n",
       "                    Figure\n",
       "                </div>\n",
       "                <img src='data:image/png;base64,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' width=640.0/>\n",
       "            </div>\n",
       "        "
      ],
      "text/plain": [
       "Canvas(toolbar=Toolbar(toolitems=[('Home', 'Reset original view', 'home', 'home'), ('Back', 'Back to previous …"
      ]
     },
     "metadata": {},
     "output_type": "display_data"
    }
   ],
   "source": [
    "plt.figure()\n",
    "pos = {'n1': (0,2), 'n2': (1,2), 'n3': (0.25,1), 'n4': (1.25,1), 'n5': (0,0), 'n6': (1,0)}\n",
    "nx.draw(E5, pos=pos, with_labels = True, edge_color='gray', font_weight='bold', font_color='white')\n",
    "plt.show"
   ]
  },
  {
   "cell_type": "code",
   "execution_count": 7,
   "id": "d95253cf",
   "metadata": {},
   "outputs": [],
   "source": [
    "#Zuordnung: Index stimmt mit Knotennr überein\n",
    "def place_robots(placement_list, graph):\n",
    "    p = placement_list\n",
    "    rob_list = []\n",
    "    for i in range(0,6):\n",
    "        a = random.choice(p)\n",
    "        rob_list.append(a)\n",
    "        p.remove(a)\n",
    "\n",
    "    return rob_list"
   ]
  },
  {
   "cell_type": "code",
   "execution_count": 8,
   "id": "6675e4d4",
   "metadata": {},
   "outputs": [
    {
     "name": "stdout",
     "output_type": "stream",
     "text": [
      "['r2', 'r4', 'r3', 'x0', 'r5', 'r1']\n"
     ]
    }
   ],
   "source": [
    "s=place_robots(placement_list,E5)\n",
    "print(s)"
   ]
  },
  {
   "cell_type": "code",
   "execution_count": 9,
   "id": "4ae44aad",
   "metadata": {},
   "outputs": [],
   "source": [
    "def find_element(element,set_a):\n",
    "    k = -1\n",
    "    for i in set_a:\n",
    "        k = k+1\n",
    "        if i == element:\n",
    "            n = nodes[k]\n",
    "            return n"
   ]
  },
  {
   "cell_type": "code",
   "execution_count": 10,
   "id": "99c5b598",
   "metadata": {},
   "outputs": [],
   "source": [
    "def find_element_tuple(element,set_a):\n",
    "    element_pair = [item for item in set_a\n",
    "          if item[0] == element or item[1] == element]\n",
    "    \n",
    "    return element_pair"
   ]
  },
  {
   "cell_type": "code",
   "execution_count": 11,
   "id": "d404a070",
   "metadata": {},
   "outputs": [],
   "source": [
    "n = find_element('x0', s)"
   ]
  },
  {
   "cell_type": "code",
   "execution_count": 12,
   "id": "9cbe1651",
   "metadata": {},
   "outputs": [],
   "source": [
    "def find_node_element(element,set_a):\n",
    "    for i in set_a:\n",
    "        if i[0] == element:\n",
    "            node = i[1]\n",
    "        if i[1] == element:\n",
    "            node = i[0] \n",
    "    \n",
    "    return node\n"
   ]
  },
  {
   "cell_type": "code",
   "execution_count": 13,
   "id": "077f1226",
   "metadata": {},
   "outputs": [],
   "source": [
    "def find_neighbors(set_a, edge_list):\n",
    "    neighbor_list = []\n",
    "    p_list = []\n",
    "    n = find_element('x0',set_a)\n",
    "    p_list = find_element_tuple(n,edge_list)\n",
    "    while (len(p_list) != 0):\n",
    "        nb = find_node_element(n,p_list) \n",
    "        neighbor_list.append(nb)\n",
    "        p_list.pop()\n",
    "    \n",
    "    return neighbor_list"
   ]
  },
  {
   "cell_type": "code",
   "execution_count": 14,
   "id": "2b6ca143",
   "metadata": {},
   "outputs": [],
   "source": [
    "nb_list = find_neighbors(s,edge_list)"
   ]
  },
  {
   "cell_type": "code",
   "execution_count": 21,
   "id": "b5bb1fc4",
   "metadata": {},
   "outputs": [],
   "source": [
    "def randomize_one_step(s,edge_list,nb_list):\n",
    "    #welche Roboter stehen auf den benachbarten Knoten zu x0?\n",
    "    rob_list = []\n",
    "    dummy_list = ['n1', 'n2', 'n3', 'n4','n5', 'n6']\n",
    "    \n",
    "    for i in nb_list:\n",
    "        x = 0\n",
    "        for j in dummy_list:\n",
    "            if i==j:\n",
    "                rob = s[x] \n",
    "                rob_list.append(rob)\n",
    "            x = x+1\n",
    "    c = random.choice(rob_list)\n",
    "    \n",
    "    #x0 und c tauschen Plätze (funktioniert)\n",
    "    k = -1\n",
    "    for i in set_a:\n",
    "        k = k+1\n",
    "        print(i)\n",
    "        if i == 'x0':\n",
    "            set_a[k] = c\n",
    "        if i == c:\n",
    "            set_a[k] = 'x0'\n",
    "        print(set_a)\n",
    "        \n",
    "    return set_a\n"
   ]
  },
  {
   "cell_type": "code",
   "execution_count": 22,
   "id": "46ba88cf",
   "metadata": {},
   "outputs": [
    {
     "name": "stdout",
     "output_type": "stream",
     "text": [
      "['r2', 'r4', 'r3', 'x0', 'r5', 'r1']\n",
      "nb =  ['n1', 'n3', 'n2', 'n5']\n",
      "r2\n",
      "['r2', 'r3', 'r1', 'x0', 'r5', 'r4']\n",
      "r3\n",
      "['r2', 'r3', 'r1', 'x0', 'r5', 'r4']\n",
      "r1\n",
      "['r2', 'r3', 'r1', 'x0', 'r5', 'r4']\n",
      "x0\n",
      "['r2', 'r3', 'r1', 'r4', 'r5', 'r4']\n",
      "r5\n",
      "['r2', 'r3', 'r1', 'r4', 'r5', 'r4']\n",
      "r4\n",
      "['r2', 'r3', 'r1', 'r4', 'r5', 'x0']\n"
     ]
    }
   ],
   "source": [
    "result = randomize_one_step(s,edge_list,nb_list)"
   ]
  },
  {
   "cell_type": "code",
   "execution_count": 23,
   "id": "b0da6002",
   "metadata": {},
   "outputs": [],
   "source": [
    "def randomize_multi_steps(set_a,edge_list):\n",
    "    for x in range(1,5):\n",
    "        #welche Roboter stehen auf den benachbarten Knoten zu x0?\n",
    "        rob_list = []\n",
    "        dummy_list = ['n1', 'n2', 'n3', 'n4','n5', 'n6']\n",
    "\n",
    "        for i in nb_list:\n",
    "            x = 0\n",
    "            for j in dummy_list:\n",
    "                if i==j:\n",
    "                    rob = s[x] \n",
    "                    rob_list.append(rob)\n",
    "                x = x+1\n",
    "        c = random.choice(rob_list)\n",
    "\n",
    "        #x0 und c tauschen Plätze (funktioniert)\n",
    "        k = -1\n",
    "        for i in set_a:\n",
    "            k = k+1\n",
    "            print(i)\n",
    "            if i == 'x0':\n",
    "                set_a[k] = c\n",
    "            if i == c:\n",
    "                set_a[k] = 'x0'\n",
    "            print(set_a)\n",
    "\n",
    "    return set_a\n"
   ]
  },
  {
   "cell_type": "code",
   "execution_count": 24,
   "id": "3a3851c9",
   "metadata": {},
   "outputs": [
    {
     "name": "stdout",
     "output_type": "stream",
     "text": [
      "['r1', 'r4', 'r2', 'x0', 'r5', 'r3']\n",
      "r1\n",
      "['r1', 'r4', 'r2', 'x0', 'r5', 'r3']\n",
      "r4\n",
      "['r1', 'r4', 'r2', 'x0', 'r5', 'r3']\n",
      "r2\n",
      "['r1', 'r4', 'r2', 'x0', 'r5', 'r3']\n",
      "x0\n",
      "['r1', 'r4', 'r2', 'r3', 'r5', 'r3']\n",
      "r5\n",
      "['r1', 'r4', 'r2', 'r3', 'r5', 'r3']\n",
      "r3\n",
      "['r1', 'r4', 'r2', 'r3', 'r5', 'x0']\n",
      "r1\n",
      "['r1', 'r4', 'r2', 'r3', 'r5', 'x0']\n",
      "r4\n",
      "['r1', 'r4', 'r2', 'r3', 'r5', 'x0']\n",
      "r2\n",
      "['r1', 'r4', 'r2', 'r3', 'r5', 'x0']\n",
      "r3\n",
      "['r1', 'r4', 'r2', 'x0', 'r5', 'x0']\n",
      "r5\n",
      "['r1', 'r4', 'r2', 'x0', 'r5', 'x0']\n",
      "x0\n",
      "['r1', 'r4', 'r2', 'x0', 'r5', 'r3']\n",
      "r1\n",
      "['r1', 'r4', 'r2', 'x0', 'r5', 'r3']\n",
      "r4\n",
      "['r1', 'r4', 'r2', 'x0', 'r5', 'r3']\n",
      "r2\n",
      "['r1', 'r4', 'r2', 'x0', 'r5', 'r3']\n",
      "x0\n",
      "['r1', 'r4', 'r2', 'r5', 'r5', 'r3']\n",
      "r5\n",
      "['r1', 'r4', 'r2', 'r5', 'x0', 'r3']\n",
      "r3\n",
      "['r1', 'r4', 'r2', 'r5', 'x0', 'r3']\n",
      "r1\n",
      "['r1', 'r4', 'r2', 'r5', 'x0', 'r3']\n",
      "r4\n",
      "['r1', 'r4', 'r2', 'r5', 'x0', 'r3']\n",
      "r2\n",
      "['r1', 'r4', 'x0', 'r5', 'x0', 'r3']\n",
      "r5\n",
      "['r1', 'r4', 'x0', 'r5', 'x0', 'r3']\n",
      "x0\n",
      "['r1', 'r4', 'x0', 'r5', 'r2', 'r3']\n",
      "r3\n",
      "['r1', 'r4', 'x0', 'r5', 'r2', 'r3']\n"
     ]
    }
   ],
   "source": [
    "result = randomize_multi_steps(s,edge_list,nb_list)\n",
    "#print(result)"
   ]
  },
  {
   "cell_type": "code",
   "execution_count": 1,
   "id": "76c81a52",
   "metadata": {},
   "outputs": [],
   "source": [
    "def randomize3(set_a,edge_list):\n",
    "    # for x in range(1,5):\n",
    "    ng_list = find_neighbors(set_a,edge_list) #Nachbarknoten vom Knoten auf dem x0 steht\n",
    "    rob_list = []\n",
    "    for i in ng_list:\n",
    "        rob = find_node_element(i,set_a) \n",
    "        rob_list.append(rob)\n",
    "    c = random.choice(rob_list)\n",
    "    d = c\n",
    "    #print(rob_list)\n",
    "    print(c)\n",
    "    set_b = []\n",
    "    set_b = set_a\n",
    "    \n",
    "    #x0 und c tauschen Plätze\n",
    "    for index, item in enumerate(set_a):\n",
    "        itemlist = list(item)\n",
    "        if itemlist[0] == 'x0':\n",
    "            itemlist[0] = c\n",
    "        if itemlist[1] == 'x0':\n",
    "            itemlist[1] = c       \n",
    "        item = tuple(itemlist)\n",
    "        print(item)\n",
    "        print(\"---\")\n",
    "    \n",
    "\n",
    "        #set_a[index] = item\n",
    "        #index_a = index\n",
    "    \n",
    "    for index, item in enumerate(set_b):\n",
    "        itemlist = list(item)\n",
    "        if itemlist[0] == d:\n",
    "            print (itemlist)\n",
    "            itemlist[0] = 'x0'\n",
    "        if itemlist[1] == d:\n",
    "            itemlist[1] = 'x0'      \n",
    "        item = tuple(itemlist)\n",
    "        print(item)\n",
    "        set_a[index] = item\n",
    "        print(\"+++\")\n",
    "        \n",
    "\n",
    "    return set_a\n"
   ]
  },
  {
   "cell_type": "code",
   "execution_count": 18,
   "id": "e0e65cd9",
   "metadata": {},
   "outputs": [
    {
     "name": "stdout",
     "output_type": "stream",
     "text": [
      "['r3', 'r1', 'x0', 'r5', 'r4', 'r2']\n"
     ]
    },
    {
     "ename": "UnboundLocalError",
     "evalue": "local variable 'node' referenced before assignment",
     "output_type": "error",
     "traceback": [
      "\u001b[0;31m---------------------------------------------------------------------------\u001b[0m",
      "\u001b[0;31mUnboundLocalError\u001b[0m                         Traceback (most recent call last)",
      "\u001b[0;32m/tmp/ipykernel_6308/3181108159.py\u001b[0m in \u001b[0;36m<module>\u001b[0;34m\u001b[0m\n\u001b[1;32m      1\u001b[0m \u001b[0mprint\u001b[0m\u001b[0;34m(\u001b[0m\u001b[0ms\u001b[0m\u001b[0;34m)\u001b[0m\u001b[0;34m\u001b[0m\u001b[0;34m\u001b[0m\u001b[0m\n\u001b[1;32m      2\u001b[0m \u001b[0;34m\u001b[0m\u001b[0m\n\u001b[0;32m----> 3\u001b[0;31m \u001b[0mresult\u001b[0m \u001b[0;34m=\u001b[0m \u001b[0mrandomize3\u001b[0m\u001b[0;34m(\u001b[0m\u001b[0ms\u001b[0m\u001b[0;34m,\u001b[0m\u001b[0medge_list\u001b[0m\u001b[0;34m)\u001b[0m\u001b[0;34m\u001b[0m\u001b[0;34m\u001b[0m\u001b[0m\n\u001b[0m\u001b[1;32m      4\u001b[0m \u001b[0mprint\u001b[0m\u001b[0;34m(\u001b[0m\u001b[0mresult\u001b[0m\u001b[0;34m)\u001b[0m\u001b[0;34m\u001b[0m\u001b[0;34m\u001b[0m\u001b[0m\n",
      "\u001b[0;32m/tmp/ipykernel_6308/365235542.py\u001b[0m in \u001b[0;36mrandomize3\u001b[0;34m(set_a, edge_list)\u001b[0m\n\u001b[1;32m      4\u001b[0m     \u001b[0mrob_list\u001b[0m \u001b[0;34m=\u001b[0m \u001b[0;34m[\u001b[0m\u001b[0;34m]\u001b[0m\u001b[0;34m\u001b[0m\u001b[0;34m\u001b[0m\u001b[0m\n\u001b[1;32m      5\u001b[0m     \u001b[0;32mfor\u001b[0m \u001b[0mi\u001b[0m \u001b[0;32min\u001b[0m \u001b[0mng_list\u001b[0m\u001b[0;34m:\u001b[0m\u001b[0;34m\u001b[0m\u001b[0;34m\u001b[0m\u001b[0m\n\u001b[0;32m----> 6\u001b[0;31m         \u001b[0mrob\u001b[0m \u001b[0;34m=\u001b[0m \u001b[0mfind_node_element\u001b[0m\u001b[0;34m(\u001b[0m\u001b[0mi\u001b[0m\u001b[0;34m,\u001b[0m\u001b[0mset_a\u001b[0m\u001b[0;34m)\u001b[0m\u001b[0;34m\u001b[0m\u001b[0;34m\u001b[0m\u001b[0m\n\u001b[0m\u001b[1;32m      7\u001b[0m         \u001b[0mrob_list\u001b[0m\u001b[0;34m.\u001b[0m\u001b[0mappend\u001b[0m\u001b[0;34m(\u001b[0m\u001b[0mrob\u001b[0m\u001b[0;34m)\u001b[0m\u001b[0;34m\u001b[0m\u001b[0;34m\u001b[0m\u001b[0m\n\u001b[1;32m      8\u001b[0m     \u001b[0mc\u001b[0m \u001b[0;34m=\u001b[0m \u001b[0mrandom\u001b[0m\u001b[0;34m.\u001b[0m\u001b[0mchoice\u001b[0m\u001b[0;34m(\u001b[0m\u001b[0mrob_list\u001b[0m\u001b[0;34m)\u001b[0m\u001b[0;34m\u001b[0m\u001b[0;34m\u001b[0m\u001b[0m\n",
      "\u001b[0;32m/tmp/ipykernel_6308/3818771087.py\u001b[0m in \u001b[0;36mfind_node_element\u001b[0;34m(element, set_a)\u001b[0m\n\u001b[1;32m      6\u001b[0m             \u001b[0mnode\u001b[0m \u001b[0;34m=\u001b[0m \u001b[0mi\u001b[0m\u001b[0;34m[\u001b[0m\u001b[0;36m0\u001b[0m\u001b[0;34m]\u001b[0m\u001b[0;34m\u001b[0m\u001b[0;34m\u001b[0m\u001b[0m\n\u001b[1;32m      7\u001b[0m \u001b[0;34m\u001b[0m\u001b[0m\n\u001b[0;32m----> 8\u001b[0;31m     \u001b[0;32mreturn\u001b[0m \u001b[0mnode\u001b[0m\u001b[0;34m\u001b[0m\u001b[0;34m\u001b[0m\u001b[0m\n\u001b[0m",
      "\u001b[0;31mUnboundLocalError\u001b[0m: local variable 'node' referenced before assignment"
     ]
    }
   ],
   "source": [
    "print(s)\n",
    "\n",
    "result = randomize3(s,edge_list)\n",
    "print(result)"
   ]
  },
  {
   "cell_type": "code",
   "execution_count": 1,
   "id": "e46659ec",
   "metadata": {},
   "outputs": [],
   "source": [
    "def randomize2(set_a,edge_list):\n",
    "    # for x in range(1,5):\n",
    "    ng_list = find_neighbors(set_a,edge_list) #Nachbarknoten vom Knoten auf dem x0 steht\n",
    "    rob_list = []\n",
    "    for i in ng_list:\n",
    "        rob = find_node_element(i,set_a) \n",
    "        rob_list.append(rob)\n",
    "    c = random.choice(rob_list)\n",
    "    #print(rob_list)\n",
    "    print(c)\n",
    "    \n",
    "    #x0 und c tauschen Plätze\n",
    "    for index, item in enumerate(set_a):\n",
    "        itemlist = list(item)\n",
    "        if (itemlist[1] == c):\n",
    "            itemlist[1] = 'x0' \n",
    "            item = tuple(itemlist)\n",
    "            set_a[index] = item\n",
    "            d = set_a[index]\n",
    "            set_a.remove(index)\n",
    "        if (itemlist[1] == 'x0'):\n",
    "            itemlist[1] = c \n",
    "            item = tuple(itemlist)\n",
    "            set_a[index] = item\n",
    "            d = set_a[index]\n",
    "            set_a.remove(index)\n",
    "            \n",
    "    set_a.append(d)\n",
    "    print(item)\n",
    "    print(\"---\")\n",
    "\n",
    "    return set_a"
   ]
  },
  {
   "cell_type": "code",
   "execution_count": 37,
   "id": "18353d44",
   "metadata": {},
   "outputs": [],
   "source": [
    "def randomize3(set_a,edge_list):\n",
    "    # for x in range(1,5):\n",
    "    ng_list = find_neighbors(set_a,edge_list) #Nachbarknoten vom Knoten auf dem x0 steht\n",
    "    rob_list = []\n",
    "    for i in ng_list:\n",
    "        rob = find_node_element(i,set_a) \n",
    "        rob_list.append(rob)\n",
    "    c = random.choice(rob_list)\n",
    "    #print(rob_list)\n",
    "    print(c)\n",
    "    \n",
    "    #x0 und c tauschen Plätze\n",
    "    for index, item in enumerate(set_a):\n",
    "        itemlist = list(item)\n",
    "        if (itemlist[1] == c):\n",
    "            itemlist[1] = 'x0' \n",
    "            item = tuple(itemlist)\n",
    "            set_a[index] = item\n",
    "            d = set_a[index]\n",
    "            set_a.remove(index)\n",
    "        if (itemlist[1] == 'x0'):\n",
    "            itemlist[1] = c \n",
    "            item = tuple(itemlist)\n",
    "            set_a[index] = item\n",
    "            d = set_a[index]\n",
    "            set_a.remove(index)\n",
    "            \n",
    "    set_a.append(d)\n",
    "    print(item)\n",
    "    print(\"---\")\n",
    "\n",
    "    return set_a"
   ]
  },
  {
   "cell_type": "code",
   "execution_count": null,
   "id": "dd7b92f5",
   "metadata": {},
   "outputs": [],
   "source": [
    "def place_robots1(placement_list, graph):\n",
    "    set_a = []\n",
    "    n = nodes\n",
    "    n2 = []\n",
    "    p = placement_list\n",
    "    while not n == n2:\n",
    "        a = random.choice(n)\n",
    "        b = random.choice(p)\n",
    "        set_a.append((a,b))\n",
    "        n.remove(a)\n",
    "        p.remove(b)\n",
    "\n",
    "    return set_a"
   ]
  }
 ],
 "metadata": {
  "kernelspec": {
   "display_name": "Python 3 (ipykernel)",
   "language": "python",
   "name": "python3"
  },
  "language_info": {
   "codemirror_mode": {
    "name": "ipython",
    "version": 3
   },
   "file_extension": ".py",
   "mimetype": "text/x-python",
   "name": "python",
   "nbconvert_exporter": "python",
   "pygments_lexer": "ipython3",
   "version": "3.9.7"
  }
 },
 "nbformat": 4,
 "nbformat_minor": 5
}
