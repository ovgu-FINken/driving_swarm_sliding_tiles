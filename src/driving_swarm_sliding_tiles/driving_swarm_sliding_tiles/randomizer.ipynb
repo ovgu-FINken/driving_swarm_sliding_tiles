{
 "cells": [
  {
   "cell_type": "code",
   "execution_count": 1,
   "id": "2403f850-fafd-46da-ba32-e080a6e847a8",
   "metadata": {},
   "outputs": [],
   "source": [
    "\n",
    "%matplotlib widget\n",
    "import matplotlib.pyplot as plt\n",
    "import networkx as nx\n",
    "import numpy as np\n",
    "import random\n"
   ]
  },
  {
   "cell_type": "code",
   "execution_count": 2,
   "id": "6937f2af",
   "metadata": {},
   "outputs": [],
   "source": [
    "#Endconfiguration with 5 robots \n",
    "placement_list = ['x0','r1','r2','r3','r4','r5']\n",
    "E5 = nx.Graph()\n",
    "nodes = ['n1','n2','n3','n4','n5','n6']\n",
    "E5.add_nodes_from(nodes)\n",
    "\n",
    "# neighborhoods (random)\n",
    "# jede Knoten hat mind. zwei Nachbarn\n",
    "edge_list = []\n",
    "list_len = len(edge_list)\n",
    "#rand_neighb = random.randint(rob_num+1, sum(rob_num+1))\n",
    "#edge_list = [('n1','n2'), ('n1','n3'), ('n1','n4'), ('n2','n3'), ('n2','n4'), ('n3','n4'), ('n3','n5'), ('n3','n6'), ('n4','n5'), ('n4','n6'),('n5','n6')]\n",
    "#E5.add_edges_from(edge_list)"
   ]
  },
  {
   "cell_type": "code",
   "execution_count": 3,
   "id": "bb5e9371",
   "metadata": {},
   "outputs": [],
   "source": [
    "def edges(g, edge_list, nodes):\n",
    "    a = random.choice(nodes)\n",
    "    b = random.choice(nodes)\n",
    "    #TO DO: check: E5 zusammenhängend\n",
    "    if (a != b) and ((a,b) not in edge_list) and ((b,a) not in edge_list):\n",
    "        edge_list.append((a, b))\n",
    "        print(edge_list)\n",
    "        g.add_edges_from(edge_list)\n",
    "        print (\"n1 = \", g.degree['n1'], \", n2 = \", g.degree['n2'], \", n3 = \", g.degree['n3'], \", n4 = \", g.degree['n4'], \", n5 = \", g.degree['n5'], \", n6 = \", g.degree['n6'])\n",
    "        for i in nodes:\n",
    "            while (g.degree[i] < 2):\n",
    "                edges(g, edge_list, nodes)\n",
    "    return edge_list\n"
   ]
  },
  {
   "cell_type": "code",
   "execution_count": 4,
   "id": "7f352353",
   "metadata": {},
   "outputs": [
    {
     "name": "stdout",
     "output_type": "stream",
     "text": [
      "[('n5', 'n1')]\n",
      "n1 =  1 , n2 =  0 , n3 =  0 , n4 =  0 , n5 =  1 , n6 =  0\n",
      "[('n5', 'n1'), ('n2', 'n3')]\n",
      "n1 =  1 , n2 =  1 , n3 =  1 , n4 =  0 , n5 =  1 , n6 =  0\n",
      "[('n5', 'n1'), ('n2', 'n3'), ('n4', 'n6')]\n",
      "n1 =  1 , n2 =  1 , n3 =  1 , n4 =  1 , n5 =  1 , n6 =  1\n",
      "[('n5', 'n1'), ('n2', 'n3'), ('n4', 'n6'), ('n5', 'n2')]\n",
      "n1 =  1 , n2 =  2 , n3 =  1 , n4 =  1 , n5 =  2 , n6 =  1\n",
      "[('n5', 'n1'), ('n2', 'n3'), ('n4', 'n6'), ('n5', 'n2'), ('n6', 'n2')]\n",
      "n1 =  1 , n2 =  3 , n3 =  1 , n4 =  1 , n5 =  2 , n6 =  2\n",
      "[('n5', 'n1'), ('n2', 'n3'), ('n4', 'n6'), ('n5', 'n2'), ('n6', 'n2'), ('n6', 'n5')]\n",
      "n1 =  1 , n2 =  3 , n3 =  1 , n4 =  1 , n5 =  3 , n6 =  3\n",
      "[('n5', 'n1'), ('n2', 'n3'), ('n4', 'n6'), ('n5', 'n2'), ('n6', 'n2'), ('n6', 'n5'), ('n5', 'n3')]\n",
      "n1 =  1 , n2 =  3 , n3 =  2 , n4 =  1 , n5 =  4 , n6 =  3\n",
      "[('n5', 'n1'), ('n2', 'n3'), ('n4', 'n6'), ('n5', 'n2'), ('n6', 'n2'), ('n6', 'n5'), ('n5', 'n3'), ('n4', 'n1')]\n",
      "n1 =  2 , n2 =  3 , n3 =  2 , n4 =  2 , n5 =  4 , n6 =  3\n"
     ]
    }
   ],
   "source": [
    "edge_list = edges(E5,edge_list,nodes)\n",
    "E5.add_edges_from(edge_list)"
   ]
  },
  {
   "cell_type": "code",
   "execution_count": 5,
   "id": "23886bca",
   "metadata": {},
   "outputs": [
    {
     "data": {
      "text/plain": [
       "<function matplotlib.pyplot.show(close=None, block=None)>"
      ]
     },
     "execution_count": 5,
     "metadata": {},
     "output_type": "execute_result"
    },
    {
     "data": {
      "application/vnd.jupyter.widget-view+json": {
       "model_id": "b6c50805fce843bd9bcff1059ff6bc4e",
       "version_major": 2,
       "version_minor": 0
      },
      "text/html": [
       "\n",
       "            <div style=\"display: inline-block;\">\n",
       "                <div class=\"jupyter-widgets widget-label\" style=\"text-align: center;\">\n",
       "                    Figure\n",
       "                </div>\n",
       "                <img src='data:image/png;base64,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' width=640.0/>\n",
       "            </div>\n",
       "        "
      ],
      "text/plain": [
       "Canvas(toolbar=Toolbar(toolitems=[('Home', 'Reset original view', 'home', 'home'), ('Back', 'Back to previous …"
      ]
     },
     "metadata": {},
     "output_type": "display_data"
    }
   ],
   "source": [
    "plt.figure()\n",
    "pos = {'n1': (0,2), 'n2': (1,2), 'n3': (0.25,1), 'n4': (1.25,1), 'n5': (0,0), 'n6': (1,0)}\n",
    "nx.draw(E5, pos=pos, with_labels = True, edge_color='gray', font_weight='bold', font_color='white')\n",
    "plt.show"
   ]
  },
  {
   "cell_type": "code",
   "execution_count": 6,
   "id": "d95253cf",
   "metadata": {},
   "outputs": [],
   "source": [
    "#Zuordnung: Index stimmt mit Knotennr überein\n",
    "def place_robots(placement_list, graph):\n",
    "    p = placement_list\n",
    "    rob_list = []\n",
    "    for i in range(0,6):\n",
    "        a = random.choice(p)\n",
    "        rob_list.append(a)\n",
    "        p.remove(a)\n",
    "\n",
    "    return rob_list"
   ]
  },
  {
   "cell_type": "code",
   "execution_count": 7,
   "id": "6675e4d4",
   "metadata": {},
   "outputs": [
    {
     "name": "stdout",
     "output_type": "stream",
     "text": [
      "['r1', 'r2', 'r4', 'x0', 'r5', 'r3']\n"
     ]
    }
   ],
   "source": [
    "s=place_robots(placement_list,E5)\n",
    "print(s)"
   ]
  },
  {
   "cell_type": "code",
   "execution_count": 8,
   "id": "4ae44aad",
   "metadata": {},
   "outputs": [],
   "source": [
    "def find_element(element,set_a):\n",
    "    k = -1\n",
    "    for i in set_a:\n",
    "        k = k+1\n",
    "        if i == element:\n",
    "            n = nodes[k]\n",
    "            return n"
   ]
  },
  {
   "cell_type": "code",
   "execution_count": 9,
   "id": "99c5b598",
   "metadata": {},
   "outputs": [],
   "source": [
    "def find_element_tuple(element,set_a):\n",
    "    element_pair = [item for item in set_a\n",
    "          if item[0] == element or item[1] == element]\n",
    "    \n",
    "    return element_pair"
   ]
  },
  {
   "cell_type": "code",
   "execution_count": 10,
   "id": "d404a070",
   "metadata": {},
   "outputs": [],
   "source": [
    "n = find_element('x0', s)"
   ]
  },
  {
   "cell_type": "code",
   "execution_count": 11,
   "id": "9cbe1651",
   "metadata": {},
   "outputs": [],
   "source": [
    "def find_node_element(element,set_a):\n",
    "    for i in set_a:\n",
    "        if i[0] == element:\n",
    "            node = i[1]\n",
    "        if i[1] == element:\n",
    "            node = i[0] \n",
    "    \n",
    "    return node\n"
   ]
  },
  {
   "cell_type": "code",
   "execution_count": 12,
   "id": "077f1226",
   "metadata": {},
   "outputs": [],
   "source": [
    "def find_neighbors(set_a, edge_list):\n",
    "    neighbor_list = []\n",
    "    p_list = []\n",
    "    n = find_element('x0',set_a)\n",
    "    p_list = find_element_tuple(n,edge_list)\n",
    "    while (len(p_list) != 0):\n",
    "        nb = find_node_element(n,p_list) \n",
    "        neighbor_list.append(nb)\n",
    "        p_list.pop()\n",
    "    \n",
    "    return neighbor_list"
   ]
  },
  {
   "cell_type": "code",
   "execution_count": 13,
   "id": "2b6ca143",
   "metadata": {},
   "outputs": [],
   "source": [
    "nb_list = find_neighbors(s,edge_list)"
   ]
  },
  {
   "cell_type": "code",
   "execution_count": 14,
   "id": "b5bb1fc4",
   "metadata": {},
   "outputs": [],
   "source": [
    "def randomize_one_step(s,edge_list,nb_list):\n",
    "    #welche Roboter stehen auf den benachbarten Knoten zu x0?\n",
    "    rob_list = []\n",
    "    dummy_list = ['n1', 'n2', 'n3', 'n4','n5', 'n6']\n",
    "    \n",
    "    for i in nb_list:\n",
    "        x = 0\n",
    "        for j in dummy_list:\n",
    "            if i==j:\n",
    "                rob = s[x] \n",
    "                rob_list.append(rob)\n",
    "            x = x+1\n",
    "    c = random.choice(rob_list)\n",
    "    \n",
    "    #x0 und c tauschen Plätze (funktioniert)\n",
    "    k = -1\n",
    "    for i in s:\n",
    "        k = k+1\n",
    "        if i == 'x0':\n",
    "            s[k] = c\n",
    "        if i == c:\n",
    "            s[k] = 'x0'\n",
    "        \n",
    "    return s\n"
   ]
  },
  {
   "cell_type": "code",
   "execution_count": 24,
   "id": "46ba88cf",
   "metadata": {},
   "outputs": [
    {
     "name": "stdout",
     "output_type": "stream",
     "text": [
      "r1\n",
      "r2\n",
      "r4\n",
      "r3\n",
      "r5\n",
      "x0\n",
      "['r1', 'r2', 'r4', 'r3', 'r5', 'x0']\n"
     ]
    }
   ],
   "source": [
    "result = randomize_one_step(s,edge_list,nb_list)\n",
    "print(result)"
   ]
  },
  {
   "cell_type": "code",
   "execution_count": 21,
   "id": "b0da6002",
   "metadata": {},
   "outputs": [],
   "source": [
    "def randomize_multi_steps(s,edge_list,nb_list):\n",
    "    for x in range(1,5):\n",
    "        #welche Roboter stehen auf den benachbarten Knoten zu x0?\n",
    "        rob_list = []\n",
    "        dummy_list = ['n1', 'n2', 'n3', 'n4','n5', 'n6']\n",
    "\n",
    "        for i in nb_list:\n",
    "            x = 0\n",
    "            for j in dummy_list:\n",
    "                if i==j:\n",
    "                    rob = s[x] \n",
    "                    rob_list.append(rob)\n",
    "                x = x+1\n",
    "        c = random.choice(rob_list)\n",
    "\n",
    "        #x0 und c tauschen Plätze (funktioniert)\n",
    "        k = -1\n",
    "        for i in s:\n",
    "            k = k+1\n",
    "            if i == 'x0':\n",
    "                s[k] = c\n",
    "            if i == c:\n",
    "                s[k] = 'x0'\n",
    "\n",
    "    return s\n"
   ]
  },
  {
   "cell_type": "code",
   "execution_count": 23,
   "id": "3a3851c9",
   "metadata": {},
   "outputs": [
    {
     "name": "stdout",
     "output_type": "stream",
     "text": [
      "['r1', 'r2', 'r4', 'r3', 'r5', 'x0']\n"
     ]
    }
   ],
   "source": [
    "result = randomize_multi_steps(s,edge_list,nb_list)\n",
    "print(result)"
   ]
  },
  {
   "cell_type": "code",
   "execution_count": 30,
   "id": "76c81a52",
   "metadata": {},
   "outputs": [],
   "source": [
    "def randomize3(set_a,edge_list):\n",
    "    # for x in range(1,5):\n",
    "    ng_list = find_neighbors(set_a,edge_list) #Nachbarknoten vom Knoten auf dem x0 steht\n",
    "    rob_list = []\n",
    "    for i in ng_list:\n",
    "        rob = find_node_element(i,set_a) \n",
    "        rob_list.append(rob)\n",
    "    c = random.choice(rob_list)\n",
    "    d = c\n",
    "    #print(rob_list)\n",
    "    print(c)\n",
    "    set_b = []\n",
    "    set_b = set_a\n",
    "    \n",
    "    #x0 und c tauschen Plätze\n",
    "    for index, item in enumerate(set_a):\n",
    "        itemlist = list(item)\n",
    "        if itemlist[0] == 'x0':\n",
    "            itemlist[0] = c\n",
    "        if itemlist[1] == 'x0':\n",
    "            itemlist[1] = c       \n",
    "        item = tuple(itemlist)\n",
    "        print(item)\n",
    "        print(\"---\")\n",
    "    \n",
    "\n",
    "        #set_a[index] = item\n",
    "        #index_a = index\n",
    "    \n",
    "    for index, item in enumerate(set_b):\n",
    "        itemlist = list(item)\n",
    "        if itemlist[0] == d:\n",
    "            print (itemlist)\n",
    "            itemlist[0] = 'x0'\n",
    "        if itemlist[1] == d:\n",
    "            itemlist[1] = 'x0'      \n",
    "        item = tuple(itemlist)\n",
    "        print(item)\n",
    "        set_a[index] = item\n",
    "        print(\"+++\")\n",
    "        \n",
    "\n",
    "    return set_a\n"
   ]
  },
  {
   "cell_type": "code",
   "execution_count": 19,
   "id": "e0e65cd9",
   "metadata": {},
   "outputs": [
    {
     "name": "stdout",
     "output_type": "stream",
     "text": [
      "['r4', 'r3', 'r5', 'r1', 'r2', 'x0']\n"
     ]
    },
    {
     "ename": "UnboundLocalError",
     "evalue": "local variable 'node' referenced before assignment",
     "output_type": "error",
     "traceback": [
      "\u001b[0;31m---------------------------------------------------------------------------\u001b[0m",
      "\u001b[0;31mUnboundLocalError\u001b[0m                         Traceback (most recent call last)",
      "\u001b[0;32m/tmp/ipykernel_3820/3181108159.py\u001b[0m in \u001b[0;36m<module>\u001b[0;34m\u001b[0m\n\u001b[1;32m      1\u001b[0m \u001b[0mprint\u001b[0m\u001b[0;34m(\u001b[0m\u001b[0ms\u001b[0m\u001b[0;34m)\u001b[0m\u001b[0;34m\u001b[0m\u001b[0;34m\u001b[0m\u001b[0m\n\u001b[1;32m      2\u001b[0m \u001b[0;34m\u001b[0m\u001b[0m\n\u001b[0;32m----> 3\u001b[0;31m \u001b[0mresult\u001b[0m \u001b[0;34m=\u001b[0m \u001b[0mrandomize3\u001b[0m\u001b[0;34m(\u001b[0m\u001b[0ms\u001b[0m\u001b[0;34m,\u001b[0m\u001b[0medge_list\u001b[0m\u001b[0;34m)\u001b[0m\u001b[0;34m\u001b[0m\u001b[0;34m\u001b[0m\u001b[0m\n\u001b[0m\u001b[1;32m      4\u001b[0m \u001b[0mprint\u001b[0m\u001b[0;34m(\u001b[0m\u001b[0mresult\u001b[0m\u001b[0;34m)\u001b[0m\u001b[0;34m\u001b[0m\u001b[0;34m\u001b[0m\u001b[0m\n",
      "\u001b[0;32m/tmp/ipykernel_3820/365235542.py\u001b[0m in \u001b[0;36mrandomize3\u001b[0;34m(set_a, edge_list)\u001b[0m\n\u001b[1;32m      4\u001b[0m     \u001b[0mrob_list\u001b[0m \u001b[0;34m=\u001b[0m \u001b[0;34m[\u001b[0m\u001b[0;34m]\u001b[0m\u001b[0;34m\u001b[0m\u001b[0;34m\u001b[0m\u001b[0m\n\u001b[1;32m      5\u001b[0m     \u001b[0;32mfor\u001b[0m \u001b[0mi\u001b[0m \u001b[0;32min\u001b[0m \u001b[0mng_list\u001b[0m\u001b[0;34m:\u001b[0m\u001b[0;34m\u001b[0m\u001b[0;34m\u001b[0m\u001b[0m\n\u001b[0;32m----> 6\u001b[0;31m         \u001b[0mrob\u001b[0m \u001b[0;34m=\u001b[0m \u001b[0mfind_node_element\u001b[0m\u001b[0;34m(\u001b[0m\u001b[0mi\u001b[0m\u001b[0;34m,\u001b[0m\u001b[0mset_a\u001b[0m\u001b[0;34m)\u001b[0m\u001b[0;34m\u001b[0m\u001b[0;34m\u001b[0m\u001b[0m\n\u001b[0m\u001b[1;32m      7\u001b[0m         \u001b[0mrob_list\u001b[0m\u001b[0;34m.\u001b[0m\u001b[0mappend\u001b[0m\u001b[0;34m(\u001b[0m\u001b[0mrob\u001b[0m\u001b[0;34m)\u001b[0m\u001b[0;34m\u001b[0m\u001b[0;34m\u001b[0m\u001b[0m\n\u001b[1;32m      8\u001b[0m     \u001b[0mc\u001b[0m \u001b[0;34m=\u001b[0m \u001b[0mrandom\u001b[0m\u001b[0;34m.\u001b[0m\u001b[0mchoice\u001b[0m\u001b[0;34m(\u001b[0m\u001b[0mrob_list\u001b[0m\u001b[0;34m)\u001b[0m\u001b[0;34m\u001b[0m\u001b[0;34m\u001b[0m\u001b[0m\n",
      "\u001b[0;32m/tmp/ipykernel_3820/3818771087.py\u001b[0m in \u001b[0;36mfind_node_element\u001b[0;34m(element, set_a)\u001b[0m\n\u001b[1;32m      6\u001b[0m             \u001b[0mnode\u001b[0m \u001b[0;34m=\u001b[0m \u001b[0mi\u001b[0m\u001b[0;34m[\u001b[0m\u001b[0;36m0\u001b[0m\u001b[0;34m]\u001b[0m\u001b[0;34m\u001b[0m\u001b[0;34m\u001b[0m\u001b[0m\n\u001b[1;32m      7\u001b[0m \u001b[0;34m\u001b[0m\u001b[0m\n\u001b[0;32m----> 8\u001b[0;31m     \u001b[0;32mreturn\u001b[0m \u001b[0mnode\u001b[0m\u001b[0;34m\u001b[0m\u001b[0;34m\u001b[0m\u001b[0m\n\u001b[0m",
      "\u001b[0;31mUnboundLocalError\u001b[0m: local variable 'node' referenced before assignment"
     ]
    }
   ],
   "source": [
    "print(s)\n",
    "\n",
    "result = randomize3(s,edge_list)\n",
    "print(result)"
   ]
  },
  {
   "cell_type": "code",
   "execution_count": 1,
   "id": "e46659ec",
   "metadata": {},
   "outputs": [],
   "source": [
    "def randomize2(set_a,edge_list):\n",
    "    # for x in range(1,5):\n",
    "    ng_list = find_neighbors(set_a,edge_list) #Nachbarknoten vom Knoten auf dem x0 steht\n",
    "    rob_list = []\n",
    "    for i in ng_list:\n",
    "        rob = find_node_element(i,set_a) \n",
    "        rob_list.append(rob)\n",
    "    c = random.choice(rob_list)\n",
    "    #print(rob_list)\n",
    "    print(c)\n",
    "    \n",
    "    #x0 und c tauschen Plätze\n",
    "    for index, item in enumerate(set_a):\n",
    "        itemlist = list(item)\n",
    "        if (itemlist[1] == c):\n",
    "            itemlist[1] = 'x0' \n",
    "            item = tuple(itemlist)\n",
    "            set_a[index] = item\n",
    "            d = set_a[index]\n",
    "            set_a.remove(index)\n",
    "        if (itemlist[1] == 'x0'):\n",
    "            itemlist[1] = c \n",
    "            item = tuple(itemlist)\n",
    "            set_a[index] = item\n",
    "            d = set_a[index]\n",
    "            set_a.remove(index)\n",
    "            \n",
    "    set_a.append(d)\n",
    "    print(item)\n",
    "    print(\"---\")\n",
    "\n",
    "    return set_a"
   ]
  },
  {
   "cell_type": "code",
   "execution_count": 37,
   "id": "18353d44",
   "metadata": {},
   "outputs": [],
   "source": [
    "def randomize3(set_a,edge_list):\n",
    "    # for x in range(1,5):\n",
    "    ng_list = find_neighbors(set_a,edge_list) #Nachbarknoten vom Knoten auf dem x0 steht\n",
    "    rob_list = []\n",
    "    for i in ng_list:\n",
    "        rob = find_node_element(i,set_a) \n",
    "        rob_list.append(rob)\n",
    "    c = random.choice(rob_list)\n",
    "    #print(rob_list)\n",
    "    print(c)\n",
    "    \n",
    "    #x0 und c tauschen Plätze\n",
    "    for index, item in enumerate(set_a):\n",
    "        itemlist = list(item)\n",
    "        if (itemlist[1] == c):\n",
    "            itemlist[1] = 'x0' \n",
    "            item = tuple(itemlist)\n",
    "            set_a[index] = item\n",
    "            d = set_a[index]\n",
    "            set_a.remove(index)\n",
    "        if (itemlist[1] == 'x0'):\n",
    "            itemlist[1] = c \n",
    "            item = tuple(itemlist)\n",
    "            set_a[index] = item\n",
    "            d = set_a[index]\n",
    "            set_a.remove(index)\n",
    "            \n",
    "    set_a.append(d)\n",
    "    print(item)\n",
    "    print(\"---\")\n",
    "\n",
    "    return set_a"
   ]
  },
  {
   "cell_type": "code",
   "execution_count": null,
   "id": "dd7b92f5",
   "metadata": {},
   "outputs": [],
   "source": [
    "def place_robots1(placement_list, graph):\n",
    "    set_a = []\n",
    "    n = nodes\n",
    "    n2 = []\n",
    "    p = placement_list\n",
    "    while not n == n2:\n",
    "        a = random.choice(n)\n",
    "        b = random.choice(p)\n",
    "        set_a.append((a,b))\n",
    "        n.remove(a)\n",
    "        p.remove(b)\n",
    "\n",
    "    return set_a"
   ]
  }
 ],
 "metadata": {
  "kernelspec": {
   "display_name": "Python 3 (ipykernel)",
   "language": "python",
   "name": "python3"
  },
  "language_info": {
   "codemirror_mode": {
    "name": "ipython",
    "version": 3
   },
   "file_extension": ".py",
   "mimetype": "text/x-python",
   "name": "python",
   "nbconvert_exporter": "python",
   "pygments_lexer": "ipython3",
   "version": "3.9.7"
  }
 },
 "nbformat": 4,
 "nbformat_minor": 5
}
