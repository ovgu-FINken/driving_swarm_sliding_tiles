{
 "cells": [
  {
   "cell_type": "code",
   "execution_count": 1,
   "id": "2403f850-fafd-46da-ba32-e080a6e847a8",
   "metadata": {},
   "outputs": [],
   "source": [
    "\n",
    "%matplotlib widget\n",
    "import matplotlib.pyplot as plt\n",
    "import networkx as nx\n",
    "import numpy as np\n",
    "import random\n"
   ]
  },
  {
   "cell_type": "code",
   "execution_count": 2,
   "id": "6937f2af",
   "metadata": {},
   "outputs": [],
   "source": [
    "#Endconfiguration with 8 robots \n",
    "placement_list = ['A','B','C','D','E','F','G','H','x0']\n",
    "E8 = nx.Graph()\n",
    "nodes = ['n1','n2','n3','n4','n5','n6','n7','n8','n9']\n",
    "E8.add_nodes_from(nodes)\n",
    "\n",
    "# neighborhoods (random)\n",
    "# jede Knoten hat mind. zwei Nachbarn\n",
    "#edge_list = []\n",
    "#list_len = len(edge_list)\n",
    "#rand_neighb = random.randint(rob_num+1, sum(rob_num+1))\n",
    "edge_list = [('n1','n4'), ('n1','n2'), ('n2','n5'), ('n2','n3'), ('n3','n6'), ('n4','n7'), ('n4','n5'), ('n5','n8'), ('n5','n6'), ('n6','n9'), ('n7','n8'),('n8','n9')]\n",
    "#E5.add_edges_from(edge_list)"
   ]
  },
  {
   "cell_type": "code",
   "execution_count": 3,
   "id": "bb5e9371",
   "metadata": {},
   "outputs": [],
   "source": [
    "def edges(g, edge_list, nodes):\n",
    "    a = random.choice(nodes)\n",
    "    b = random.choice(nodes)\n",
    "    #TO DO: check: E8 zusammenhängend\n",
    "    if (a != b) and ((a,b) not in edge_list) and ((b,a) not in edge_list):\n",
    "        edge_list.append((a, b))\n",
    "        print(edge_list)\n",
    "        g.add_edges_from(edge_list)\n",
    "        print (\"n1 = \", g.degree['n1'], \", n2 = \", g.degree['n2'], \", n3 = \", g.degree['n3'], \", n4 = \", g.degree['n4'], \", n5 = \", g.degree['n5'], \", n6 = \", g.degree['n6'], \", n7 = \", g.degree['n7'], \", n8 = \", g.degree['n8'], \", n9 = \", g.degree['n9'])\n",
    "        for i in nodes:\n",
    "            while (g.degree[i] < 2):\n",
    "                edges(g, edge_list, nodes)\n",
    "    return edge_list\n"
   ]
  },
  {
   "cell_type": "code",
   "execution_count": 4,
   "id": "7f352353",
   "metadata": {},
   "outputs": [],
   "source": [
    "#edge_list = edges(E8,edge_list,nodes)\n",
    "E8.add_edges_from(edge_list)"
   ]
  },
  {
   "cell_type": "code",
   "execution_count": 5,
   "id": "23886bca",
   "metadata": {},
   "outputs": [
    {
     "data": {
      "text/plain": [
       "<function matplotlib.pyplot.show(close=None, block=None)>"
      ]
     },
     "execution_count": 5,
     "metadata": {},
     "output_type": "execute_result"
    },
    {
     "data": {
      "application/vnd.jupyter.widget-view+json": {
       "model_id": "450a84fb92e14d99b0bd51ffb765d8d3",
       "version_major": 2,
       "version_minor": 0
      },
      "text/html": [
       "\n",
       "            <div style=\"display: inline-block;\">\n",
       "                <div class=\"jupyter-widgets widget-label\" style=\"text-align: center;\">\n",
       "                    Figure\n",
       "                </div>\n",
       "                <img src='data:image/png;base64,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' width=640.0/>\n",
       "            </div>\n",
       "        "
      ],
      "text/plain": [
       "Canvas(toolbar=Toolbar(toolitems=[('Home', 'Reset original view', 'home', 'home'), ('Back', 'Back to previous …"
      ]
     },
     "metadata": {},
     "output_type": "display_data"
    }
   ],
   "source": [
    "plt.figure()\n",
    "pos = {'n1': (2.3,-0.8), 'n2': (2.3,-1.2), 'n3': (2.3,-1.6), 'n4': (1.9,-0.8), 'n5': (1.9,-1.2), 'n6': (1.9,-1.6), 'n7': (1.5,-0.8), 'n8': (1.5,-1.2), 'n9': (1.5,-1.6)}\n",
    "nx.draw(E8, pos=pos, with_labels = True, edge_color='gray', font_weight='bold', font_color='white')\n",
    "plt.show"
   ]
  },
  {
   "cell_type": "code",
   "execution_count": 6,
   "id": "d95253cf",
   "metadata": {},
   "outputs": [],
   "source": [
    "#Zuordnung: Index stimmt mit Knotennr überein\n",
    "def place_robots(placement_list, graph):\n",
    "    p = placement_list\n",
    "    rob_list = []\n",
    "    for i in range(0,9):\n",
    "        a = random.choice(p)\n",
    "        rob_list.append(a)\n",
    "        p.remove(a)\n",
    "\n",
    "    return rob_list"
   ]
  },
  {
   "cell_type": "code",
   "execution_count": 7,
   "id": "6675e4d4",
   "metadata": {},
   "outputs": [
    {
     "name": "stdout",
     "output_type": "stream",
     "text": [
      "['A', 'B', 'C', 'D', 'E', 'F', 'G', 'H', 'x0']\n"
     ]
    }
   ],
   "source": [
    "#s=place_robots(placement_list,E8)\n",
    "s=placement_list\n",
    "print(s)"
   ]
  },
  {
   "cell_type": "code",
   "execution_count": 8,
   "id": "4ae44aad",
   "metadata": {},
   "outputs": [],
   "source": [
    "def find_element(element,set_a):\n",
    "    k = -1\n",
    "    for i in set_a:\n",
    "        k = k+1\n",
    "        if i == element:\n",
    "            n = nodes[k]\n",
    "            return n"
   ]
  },
  {
   "cell_type": "code",
   "execution_count": 9,
   "id": "99c5b598",
   "metadata": {},
   "outputs": [],
   "source": [
    "def find_element_tuple(element,set_a):\n",
    "    element_pair = [item for item in set_a\n",
    "          if item[0] == element or item[1] == element]\n",
    "    \n",
    "    return element_pair"
   ]
  },
  {
   "cell_type": "code",
   "execution_count": 10,
   "id": "d404a070",
   "metadata": {},
   "outputs": [],
   "source": [
    "n = find_element('x0', s)"
   ]
  },
  {
   "cell_type": "code",
   "execution_count": 11,
   "id": "9cbe1651",
   "metadata": {},
   "outputs": [],
   "source": [
    "def find_node_element(element,set_a):\n",
    "    for i in set_a:\n",
    "        if i[0] == element:\n",
    "            node = i[1]\n",
    "        if i[1] == element:\n",
    "            node = i[0] \n",
    "    \n",
    "    return node\n"
   ]
  },
  {
   "cell_type": "code",
   "execution_count": 12,
   "id": "077f1226",
   "metadata": {},
   "outputs": [],
   "source": [
    "#Neighbors of x0\n",
    "def find_neighbors(set_a, edge_list):\n",
    "    neighbor_list = []\n",
    "    p_list = []\n",
    "    n = find_element('x0',set_a)\n",
    "    p_list = find_element_tuple(n,edge_list)\n",
    "    while (len(p_list) != 0):\n",
    "        nb = find_node_element(n,p_list) \n",
    "        neighbor_list.append(nb)\n",
    "        p_list.pop()\n",
    "    \n",
    "    return neighbor_list"
   ]
  },
  {
   "cell_type": "code",
   "execution_count": 13,
   "id": "2b6ca143",
   "metadata": {},
   "outputs": [],
   "source": [
    "nb_list = find_neighbors(s,edge_list)"
   ]
  },
  {
   "cell_type": "code",
   "execution_count": 24,
   "id": "b0da6002",
   "metadata": {},
   "outputs": [],
   "source": [
    "def randomize_multi_steps(s,edge_list,nb_list):\n",
    "    for x in range(1,50):\n",
    "        print(x)\n",
    "        print(s)\n",
    "        print(nb_list)\n",
    "        #welche Roboter stehen auf den benachbarten Knoten zu x0?\n",
    "        rob_list = []\n",
    "        dummy_list = ['n1', 'n2', 'n3', 'n4','n5', 'n6', 'n7', 'n8', 'n9']\n",
    "\n",
    "        for i in nb_list:\n",
    "            x = 0\n",
    "            for j in dummy_list:\n",
    "                if i==j:\n",
    "                    rob = s[x] \n",
    "                    rob_list.append(rob)\n",
    "                x = x+1\n",
    "        c = random.choice(rob_list)\n",
    "\n",
    "        #x0 und c tauschen Plätze \n",
    "        k = -1\n",
    "        for i in s:\n",
    "            k = k+1\n",
    "            if i == 'x0':\n",
    "                s[k] = c\n",
    "            if i == c:\n",
    "                s[k] = 'x0'\n",
    "        nb_list = find_neighbors(s,edge_list)\n",
    "                \n",
    "\n",
    "    return s\n"
   ]
  },
  {
   "cell_type": "code",
   "execution_count": 25,
   "id": "3a3851c9",
   "metadata": {},
   "outputs": [
    {
     "name": "stdout",
     "output_type": "stream",
     "text": [
      "['A', 'C', 'x0', 'F', 'B', 'H', 'D', 'G', 'E']\n",
      "1\n",
      "['A', 'C', 'x0', 'F', 'B', 'H', 'D', 'G', 'E']\n",
      "['n8', 'n6']\n",
      "2\n",
      "['A', 'C', 'G', 'F', 'B', 'H', 'D', 'x0', 'E']\n",
      "['n9', 'n7', 'n5']\n",
      "3\n",
      "['A', 'C', 'G', 'F', 'B', 'H', 'D', 'E', 'x0']\n",
      "['n8', 'n6']\n",
      "4\n",
      "['A', 'C', 'G', 'F', 'B', 'x0', 'D', 'E', 'H']\n",
      "['n9', 'n5', 'n3']\n",
      "5\n",
      "['A', 'C', 'G', 'F', 'x0', 'B', 'D', 'E', 'H']\n",
      "['n6', 'n8', 'n4', 'n2']\n",
      "6\n",
      "['A', 'C', 'G', 'x0', 'F', 'B', 'D', 'E', 'H']\n",
      "['n5', 'n7', 'n1']\n",
      "7\n",
      "['A', 'C', 'G', 'D', 'F', 'B', 'x0', 'E', 'H']\n",
      "['n8', 'n4']\n",
      "8\n",
      "['A', 'C', 'G', 'x0', 'F', 'B', 'D', 'E', 'H']\n",
      "['n5', 'n7', 'n1']\n",
      "9\n",
      "['A', 'C', 'G', 'D', 'F', 'B', 'x0', 'E', 'H']\n",
      "['n8', 'n4']\n",
      "10\n",
      "['A', 'C', 'G', 'D', 'F', 'B', 'E', 'x0', 'H']\n",
      "['n9', 'n7', 'n5']\n",
      "11\n",
      "['A', 'C', 'G', 'D', 'F', 'B', 'x0', 'E', 'H']\n",
      "['n8', 'n4']\n",
      "12\n",
      "['A', 'C', 'G', 'x0', 'F', 'B', 'D', 'E', 'H']\n",
      "['n5', 'n7', 'n1']\n",
      "13\n",
      "['A', 'C', 'G', 'F', 'x0', 'B', 'D', 'E', 'H']\n",
      "['n6', 'n8', 'n4', 'n2']\n",
      "14\n",
      "['A', 'x0', 'G', 'F', 'C', 'B', 'D', 'E', 'H']\n",
      "['n3', 'n5', 'n1']\n",
      "15\n",
      "['A', 'G', 'x0', 'F', 'C', 'B', 'D', 'E', 'H']\n",
      "['n6', 'n2']\n",
      "16\n",
      "['A', 'G', 'B', 'F', 'C', 'x0', 'D', 'E', 'H']\n",
      "['n9', 'n5', 'n3']\n",
      "17\n",
      "['A', 'G', 'B', 'F', 'x0', 'C', 'D', 'E', 'H']\n",
      "['n6', 'n8', 'n4', 'n2']\n",
      "18\n",
      "['A', 'x0', 'B', 'F', 'G', 'C', 'D', 'E', 'H']\n",
      "['n3', 'n5', 'n1']\n",
      "19\n",
      "['x0', 'A', 'B', 'F', 'G', 'C', 'D', 'E', 'H']\n",
      "['n2', 'n4']\n",
      "20\n",
      "['A', 'x0', 'B', 'F', 'G', 'C', 'D', 'E', 'H']\n",
      "['n3', 'n5', 'n1']\n",
      "21\n",
      "['x0', 'A', 'B', 'F', 'G', 'C', 'D', 'E', 'H']\n",
      "['n2', 'n4']\n",
      "22\n",
      "['A', 'x0', 'B', 'F', 'G', 'C', 'D', 'E', 'H']\n",
      "['n3', 'n5', 'n1']\n",
      "23\n",
      "['A', 'B', 'x0', 'F', 'G', 'C', 'D', 'E', 'H']\n",
      "['n6', 'n2']\n",
      "24\n",
      "['A', 'B', 'C', 'F', 'G', 'x0', 'D', 'E', 'H']\n",
      "['n9', 'n5', 'n3']\n",
      "25\n",
      "['A', 'B', 'x0', 'F', 'G', 'C', 'D', 'E', 'H']\n",
      "['n6', 'n2']\n",
      "26\n",
      "['A', 'B', 'C', 'F', 'G', 'x0', 'D', 'E', 'H']\n",
      "['n9', 'n5', 'n3']\n",
      "27\n",
      "['A', 'B', 'C', 'F', 'G', 'H', 'D', 'E', 'x0']\n",
      "['n8', 'n6']\n",
      "28\n",
      "['A', 'B', 'C', 'F', 'G', 'x0', 'D', 'E', 'H']\n",
      "['n9', 'n5', 'n3']\n",
      "29\n",
      "['A', 'B', 'x0', 'F', 'G', 'C', 'D', 'E', 'H']\n",
      "['n6', 'n2']\n",
      "30\n",
      "['A', 'x0', 'B', 'F', 'G', 'C', 'D', 'E', 'H']\n",
      "['n3', 'n5', 'n1']\n",
      "31\n",
      "['A', 'B', 'x0', 'F', 'G', 'C', 'D', 'E', 'H']\n",
      "['n6', 'n2']\n",
      "32\n",
      "['A', 'x0', 'B', 'F', 'G', 'C', 'D', 'E', 'H']\n",
      "['n3', 'n5', 'n1']\n",
      "33\n",
      "['A', 'G', 'B', 'F', 'x0', 'C', 'D', 'E', 'H']\n",
      "['n6', 'n8', 'n4', 'n2']\n",
      "34\n",
      "['A', 'G', 'B', 'F', 'C', 'x0', 'D', 'E', 'H']\n",
      "['n9', 'n5', 'n3']\n",
      "35\n",
      "['A', 'G', 'B', 'F', 'x0', 'C', 'D', 'E', 'H']\n",
      "['n6', 'n8', 'n4', 'n2']\n",
      "36\n",
      "['A', 'x0', 'B', 'F', 'G', 'C', 'D', 'E', 'H']\n",
      "['n3', 'n5', 'n1']\n",
      "37\n",
      "['x0', 'A', 'B', 'F', 'G', 'C', 'D', 'E', 'H']\n",
      "['n2', 'n4']\n",
      "38\n",
      "['A', 'x0', 'B', 'F', 'G', 'C', 'D', 'E', 'H']\n",
      "['n3', 'n5', 'n1']\n",
      "39\n",
      "['A', 'G', 'B', 'F', 'x0', 'C', 'D', 'E', 'H']\n",
      "['n6', 'n8', 'n4', 'n2']\n",
      "40\n",
      "['A', 'G', 'B', 'F', 'E', 'C', 'D', 'x0', 'H']\n",
      "['n9', 'n7', 'n5']\n",
      "41\n",
      "['A', 'G', 'B', 'F', 'E', 'C', 'D', 'H', 'x0']\n",
      "['n8', 'n6']\n",
      "42\n",
      "['A', 'G', 'B', 'F', 'E', 'C', 'D', 'x0', 'H']\n",
      "['n9', 'n7', 'n5']\n",
      "43\n",
      "['A', 'G', 'B', 'F', 'x0', 'C', 'D', 'E', 'H']\n",
      "['n6', 'n8', 'n4', 'n2']\n",
      "44\n",
      "['A', 'G', 'B', 'F', 'E', 'C', 'D', 'x0', 'H']\n",
      "['n9', 'n7', 'n5']\n",
      "45\n",
      "['A', 'G', 'B', 'F', 'E', 'C', 'x0', 'D', 'H']\n",
      "['n8', 'n4']\n",
      "46\n",
      "['A', 'G', 'B', 'x0', 'E', 'C', 'F', 'D', 'H']\n",
      "['n5', 'n7', 'n1']\n",
      "47\n",
      "['x0', 'G', 'B', 'A', 'E', 'C', 'F', 'D', 'H']\n",
      "['n2', 'n4']\n",
      "48\n",
      "['G', 'x0', 'B', 'A', 'E', 'C', 'F', 'D', 'H']\n",
      "['n3', 'n5', 'n1']\n",
      "49\n",
      "['G', 'B', 'x0', 'A', 'E', 'C', 'F', 'D', 'H']\n",
      "['n6', 'n2']\n",
      "['G', 'B', 'C', 'A', 'E', 'x0', 'F', 'D', 'H']\n"
     ]
    }
   ],
   "source": [
    "print(s)\n",
    "result = randomize_multi_steps(s,edge_list,nb_list)\n",
    "print(result)"
   ]
  },
  {
   "cell_type": "code",
   "execution_count": null,
   "id": "e2f8e863",
   "metadata": {},
   "outputs": [],
   "source": []
  },
  {
   "cell_type": "code",
   "execution_count": null,
   "id": "06568ea0",
   "metadata": {},
   "outputs": [],
   "source": []
  }
 ],
 "metadata": {
  "kernelspec": {
   "display_name": "Python 3 (ipykernel)",
   "language": "python",
   "name": "python3"
  },
  "language_info": {
   "codemirror_mode": {
    "name": "ipython",
    "version": 3
   },
   "file_extension": ".py",
   "mimetype": "text/x-python",
   "name": "python",
   "nbconvert_exporter": "python",
   "pygments_lexer": "ipython3",
   "version": "3.9.7"
  }
 },
 "nbformat": 4,
 "nbformat_minor": 5
}
